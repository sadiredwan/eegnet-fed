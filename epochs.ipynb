{
 "cells": [
  {
   "cell_type": "code",
   "execution_count": 1,
   "metadata": {},
   "outputs": [],
   "source": [
    "import mne\n",
    "import os\n",
    "from tqdm import tqdm\n",
    "import matlab.engine\n",
    "import numpy as np\n",
    "mne.set_log_level(40)\n",
    "eng = matlab.engine.start_matlab()"
   ]
  },
  {
   "cell_type": "code",
   "execution_count": 2,
   "metadata": {},
   "outputs": [
    {
     "name": "stderr",
     "output_type": "stream",
     "text": [
      "100%|██████████| 18/18 [04:41<00:00, 15.61s/it]\n"
     ]
    }
   ],
   "source": [
    "for fname in tqdm(os.listdir('data')):\n",
    "    raw = mne.io.read_raw_gdf('data/'+fname, eog=['EOG-left', 'EOG-central', 'EOG-right'], preload=True)\n",
    "    map = {\n",
    "        'EEG-Fz': 'Fz',\n",
    "        'EEG-0': 'FC3',\n",
    "        'EEG-1': 'FC1',\n",
    "        'EEG-2': 'FCz',\n",
    "        'EEG-3': 'FC2',\n",
    "        'EEG-4': 'FC4',\n",
    "        'EEG-5': 'C5',\n",
    "        'EEG-C3': 'C3',\n",
    "        'EEG-6': 'C1',\n",
    "        'EEG-Cz': 'Cz',\n",
    "        'EEG-7': 'C2',\n",
    "        'EEG-C4': 'C4',\n",
    "        'EEG-8': 'C6',\n",
    "        'EEG-9': 'CP3',\n",
    "        'EEG-10': 'CP1',\n",
    "        'EEG-11': 'CPz',\n",
    "        'EEG-12': 'CP2',\n",
    "        'EEG-13': 'CP4',\n",
    "        'EEG-14': 'P1',\n",
    "        'EEG-Pz': 'Pz',\n",
    "        'EEG-15': 'P2',\n",
    "        'EEG-16': 'Oz',\n",
    "        'EOG-left': 'EoG1',\n",
    "        'EOG-central': 'EoG2',\n",
    "        'EOG-right': 'EoG3'\n",
    "    }\n",
    "    mne.rename_channels(raw.info, mapping=map)\n",
    "    montage = mne.channels.make_standard_montage('standard_1020')\n",
    "    raw.set_montage(montage)\n",
    "    \n",
    "    ica = mne.preprocessing.ICA(\n",
    "        n_components=10,\n",
    "        max_iter='auto',\n",
    "        random_state=10\n",
    "    )\n",
    "    ica.fit(raw)\n",
    "    eog_indices, ecg_scores = ica.find_bads_eog(raw, threshold='auto')\n",
    "    ica.exclude = eog_indices\n",
    "    raw = ica.apply(raw.copy(), exclude=ica.exclude)\n",
    "    \n",
    "    this_participant = eng.load('mat/'+fname.replace('.gdf', '.mat'))\n",
    "    for data in this_participant['data']:\n",
    "        if len(np.asarray(data['trial'])) != 0:\n",
    "                trial = np.asarray(data['trial']).squeeze()\n",
    "                classes = np.asarray(data['classes'])\n",
    "                y = np.asarray(data['y'])\n",
    "                description = [classes[int(x-1)] for x in y]\n",
    "                annotations = mne.Annotations(onset=trial/raw.info['sfreq'], duration=0, description=description)\n",
    "                raw.set_annotations(annotations)\n",
    "    \n",
    "    raw.save('epochs/'+fname.replace('.gdf', '.fif'), picks='eeg')"
   ]
  }
 ],
 "metadata": {
  "kernelspec": {
   "display_name": "Python 3.10.6 ('eeg')",
   "language": "python",
   "name": "python3"
  },
  "language_info": {
   "codemirror_mode": {
    "name": "ipython",
    "version": 3
   },
   "file_extension": ".py",
   "mimetype": "text/x-python",
   "name": "python",
   "nbconvert_exporter": "python",
   "pygments_lexer": "ipython3",
   "version": "3.10.8"
  },
  "orig_nbformat": 4,
  "vscode": {
   "interpreter": {
    "hash": "6c5d414a469e5f94d9b2cc91440f137574f5dee04513972a75d0756fd1e634aa"
   }
  }
 },
 "nbformat": 4,
 "nbformat_minor": 2
}
