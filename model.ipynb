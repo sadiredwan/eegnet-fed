{
 "cells": [
  {
   "cell_type": "code",
   "execution_count": null,
   "metadata": {},
   "outputs": [],
   "source": [
    "import mne\n",
    "import numpy as np\n",
    "from sklearn.preprocessing import LabelBinarizer\n",
    "from sklearn.model_selection import train_test_split\n",
    "import tensorflow as tf\n",
    "from keras.callbacks import ModelCheckpoint, EarlyStopping\n",
    "from EEGNet import EEGNet\n",
    "from CustomNet import CustomNet\n",
    "mne.set_log_level(40)"
   ]
  },
  {
   "cell_type": "code",
   "execution_count": null,
   "metadata": {},
   "outputs": [],
   "source": [
    "epochs = mne.read_epochs('unprocessed/epochs.fif')"
   ]
  },
  {
   "cell_type": "code",
   "execution_count": null,
   "metadata": {},
   "outputs": [],
   "source": [
    "channels = ['Fz', 'FC3', 'FC1', 'FCz', 'FC2', 'FC4', 'C5', 'C3', 'C1', 'Cz', 'C2', 'C4', 'C6', 'CP3', 'CP1', 'CPz', 'CP2', 'CP4', 'P1', 'Pz', 'P2', 'Oz', 'EoG1', 'EoG2', 'EoG3']"
   ]
  },
  {
   "cell_type": "code",
   "execution_count": null,
   "metadata": {},
   "outputs": [],
   "source": [
    "nn_data_list = []\n",
    "nn_labels = []\n",
    "for event in epochs.event_id:\n",
    "    nn_data_list.append(epochs[event].copy().crop(0, 4).pick(channels).get_data()[:,:,:-1])\n",
    "    for i in range(len(epochs[event])):\n",
    "            nn_labels.append(epochs.event_id[event])"
   ]
  },
  {
   "cell_type": "code",
   "execution_count": null,
   "metadata": {},
   "outputs": [],
   "source": [
    "lb = LabelBinarizer().fit([1, 2, 3, 4])\n",
    "nn_labels_OH = lb.transform(nn_labels)\n",
    "nn_data = np.concatenate(nn_data_list, axis=0)\n",
    "nn_data = np.transpose(nn_data, axes=[0,2,1])\n",
    "print(nn_data.shape, nn_labels_OH.shape)"
   ]
  },
  {
   "cell_type": "code",
   "execution_count": null,
   "metadata": {},
   "outputs": [],
   "source": [
    "X_train_nn, X_test_val_nn, y_train_nn, y_test_val_nn = train_test_split(nn_data,\n",
    "                                                                        nn_labels_OH,\n",
    "                                                                        stratify=nn_labels_OH,\n",
    "                                                                        test_size=0.20,\n",
    "                                                                        random_state=42)\n",
    "X_test_nn, X_val_nn, y_test_nn, y_val_nn = train_test_split(X_test_val_nn,\n",
    "                                                            y_test_val_nn,\n",
    "                                                            stratify=y_test_val_nn,\n",
    "                                                            test_size=0.50,\n",
    "                                                            random_state=42)"
   ]
  },
  {
   "cell_type": "code",
   "execution_count": null,
   "metadata": {},
   "outputs": [],
   "source": [
    "learning_rate = 1e-4\n",
    "loss = tf.keras.losses.categorical_crossentropy\n",
    "optimizer = tf.keras.optimizers.Adam(learning_rate=learning_rate)\n",
    "model = CustomNet(inp_shape=(1000, 22))\n",
    "model.compile(loss=loss, optimizer=optimizer, metrics=['accuracy'])"
   ]
  },
  {
   "cell_type": "code",
   "execution_count": null,
   "metadata": {},
   "outputs": [],
   "source": [
    "learning_rate = 1e-4\n",
    "loss = tf.keras.losses.categorical_crossentropy\n",
    "optimizer = tf.keras.optimizers.Adam(learning_rate=learning_rate)\n",
    "model.compile(loss=loss, optimizer=optimizer, metrics=['accuracy'])"
   ]
  },
  {
   "cell_type": "code",
   "execution_count": null,
   "metadata": {},
   "outputs": [],
   "source": [
    "modelPath = 'models/eegnet.h5'\n",
    "\n",
    "checkpoint = ModelCheckpoint(\n",
    "    modelPath,\n",
    "    monitor='val_loss',\n",
    "    verbose=1,\n",
    "    save_best_only=True,\n",
    "    save_weights_only=True,\n",
    "    mode='auto',\n",
    "    save_freq='epoch'\n",
    ")\n",
    "\n",
    "earlystopping = EarlyStopping(\n",
    "    monitor='val_loss',\n",
    "    min_delta=0.001,\n",
    "    patience=4,\n",
    "    restore_best_weights=True,\n",
    ")\n",
    "\n",
    "callbacksList = [checkpoint, earlystopping]  "
   ]
  },
  {
   "cell_type": "code",
   "execution_count": null,
   "metadata": {},
   "outputs": [],
   "source": [
    "hist = model.fit(X_train_nn, y_train_nn, epochs=100, batch_size=10, validation_data=(X_val_nn,y_val_nn), shuffle=True, callbacks=callbacksList, verbose=1)"
   ]
  }
 ],
 "metadata": {
  "kernelspec": {
   "display_name": "eeg",
   "language": "python",
   "name": "python3"
  },
  "language_info": {
   "codemirror_mode": {
    "name": "ipython",
    "version": 3
   },
   "file_extension": ".py",
   "mimetype": "text/x-python",
   "name": "python",
   "nbconvert_exporter": "python",
   "pygments_lexer": "ipython3",
   "version": "3.10.8"
  },
  "orig_nbformat": 4
 },
 "nbformat": 4,
 "nbformat_minor": 2
}
